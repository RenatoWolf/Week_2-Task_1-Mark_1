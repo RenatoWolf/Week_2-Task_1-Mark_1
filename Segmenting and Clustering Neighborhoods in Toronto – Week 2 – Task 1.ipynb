{
 "cells": [
  {
   "cell_type": "markdown",
   "id": "c590cf60",
   "metadata": {},
   "source": [
    "# Segmenting and Clustering Neighborhoods in Toronto – Week 2 – Task 1"
   ]
  },
  {
   "cell_type": "code",
   "execution_count": null,
   "id": "f7978512",
   "metadata": {},
   "outputs": [],
   "source": [
    "# Importing Packages\n",
    "import pandas as pd\n",
    "import requests\n",
    "from bs4 import BeautifulSoup  # for extracting data from HTML and XML files Library"
   ]
  },
  {
   "cell_type": "code",
   "execution_count": null,
   "id": "0747c2ef",
   "metadata": {},
   "outputs": [],
   "source": [
    "print('Packages Imported - OK!')"
   ]
  },
  {
   "cell_type": "code",
   "execution_count": null,
   "id": "b0847f22",
   "metadata": {},
   "outputs": [],
   "source": [
    "pd.set_option('display.max_columns', None)\n",
    "pd.set_option('display.max_rows', None)"
   ]
  },
  {
   "cell_type": "markdown",
   "id": "e053c0ed",
   "metadata": {},
   "source": [
    "##### URL from wikipedia - List of postal codes of Canada: M"
   ]
  },
  {
   "cell_type": "markdown",
   "id": "1ef0986e",
   "metadata": {},
   "source": [
    "This is a list of postal codes in Canada where the first letter is M. Postal codes beginning with M are located within the city of Toronto in the province of Ontario. Only the first three characters are listed, corresponding to the Forward Sortation Area."
   ]
  },
  {
   "cell_type": "code",
   "execution_count": null,
   "id": "409bced1",
   "metadata": {},
   "outputs": [],
   "source": [
    "url = 'https://en.wikipedia.org/wiki/List_of_postal_codes_of_Canada:_M'"
   ]
  },
  {
   "cell_type": "code",
   "execution_count": null,
   "id": "dac340f8",
   "metadata": {},
   "outputs": [],
   "source": [
    "# Let's check the wikipedia URL\n",
    "print(url)"
   ]
  },
  {
   "cell_type": "code",
   "execution_count": null,
   "id": "dab0b48c",
   "metadata": {},
   "outputs": [],
   "source": [
    "toronto_wikipedia_data = requests.get(url)"
   ]
  },
  {
   "cell_type": "code",
   "execution_count": null,
   "id": "83476735",
   "metadata": {},
   "outputs": [],
   "source": [
    "print(toronto_wikipedia_data)"
   ]
  },
  {
   "cell_type": "code",
   "execution_count": null,
   "id": "7050ec9d",
   "metadata": {},
   "outputs": [],
   "source": [
    "print(toronto_wikipedia_data.status_code)"
   ]
  },
  {
   "cell_type": "markdown",
   "id": "4cd6052f",
   "metadata": {},
   "source": [
    "## We will follow the guidelines of the problem statement\n",
    "\n",
    "### Tips for  Webscraping Updated Table in Week3 Peer Graded Assignment\n",
    "\n",
    " **After retreiving the URL and creating a Beautiful soup object** \n",
    "\n",
    " **Firstly create a list**  \n",
    "\n",
    " **Later after finding the table and table data  create a dictionary called cell having 3 keys PostalCode, Borough and Neighborhood.**\n",
    "\n",
    " **As postal code contains upto 3 characters extract that using tablerow.p.text**\n",
    "\n",
    " **Next use split ,strip and replace functions for getting Borough and Neighborhood information.**.\n",
    "\n",
    " **Append to the list**  \n",
    "\n",
    " **Create a dataframe with list**"
   ]
  },
  {
   "cell_type": "code",
   "execution_count": null,
   "id": "c8c647ec",
   "metadata": {},
   "outputs": [],
   "source": [
    "soup = BeautifulSoup(toronto_wikipedia_data.content, 'html.parser')"
   ]
  },
  {
   "cell_type": "code",
   "execution_count": null,
   "id": "f0d033ca",
   "metadata": {},
   "outputs": [],
   "source": [
    "tables = soup.find('table')"
   ]
  },
  {
   "cell_type": "code",
   "execution_count": null,
   "id": "3ba37909",
   "metadata": {},
   "outputs": [],
   "source": [
    "trs = tables.find_all('tr')"
   ]
  },
  {
   "cell_type": "code",
   "execution_count": null,
   "id": "9fe31c2a",
   "metadata": {},
   "outputs": [],
   "source": [
    "rows = []\n",
    "for tr in trs:\n",
    "    i = tr.find_all('td')\n",
    "    if i:\n",
    "        rows.append(i)"
   ]
  },
  {
   "cell_type": "code",
   "execution_count": null,
   "id": "55fb020f",
   "metadata": {},
   "outputs": [],
   "source": [
    "rows[:5]"
   ]
  },
  {
   "cell_type": "markdown",
   "id": "b82154ec",
   "metadata": {},
   "source": [
    "##### Following instructions:\n",
    "\n",
    "Only process the cells that have an assigned borough. Ignore cells with a borough that is 'Not assigned'."
   ]
  },
  {
   "cell_type": "code",
   "execution_count": null,
   "id": "01b87f6a",
   "metadata": {},
   "outputs": [],
   "source": [
    "trb = []\n",
    "for row in rows:\n",
    "    for i in range(3):\n",
    "        trab = str(row[i].text.strip(' \\n'))\n",
    "        if trab[3:] != 'Not assigned':\n",
    "            postalcode = trab[:3]\n",
    "            aaa = ''\n",
    "            bol1 = True\n",
    "            for j in range(3, len(trab)):\n",
    "                if trab[j] == '(':\n",
    "                    bol1 = True\n",
    "                elif trab[j] == ')':\n",
    "                    aaa = aaa + trab[j]\n",
    "                    bol1 = False\n",
    "                if bol1:\n",
    "                    aaa = aaa + trab[j]\n",
    "\n",
    "            borough = ''\n",
    "            neighborhood = ''\n",
    "            bol1 = True\n",
    "            for j in range(len(aaa)):\n",
    "                if aaa[j] == '(':\n",
    "                    bol1 = False\n",
    "                if bol1:\n",
    "                    borough = borough + aaa[j]\n",
    "                else:\n",
    "                    neighborhood = neighborhood + aaa[j]\n",
    "            borough = borough.strip()\n",
    "            neighborhood = str(neighborhood.strip(' ()')).replace('/', ',').replace('(',' ').replace(')',',')\n",
    "            trb.append([postalcode, borough, neighborhood])"
   ]
  },
  {
   "cell_type": "markdown",
   "id": "336341d9",
   "metadata": {},
   "source": [
    "##### Let's tranform the loaded data into a pandas dataframe"
   ]
  },
  {
   "cell_type": "code",
   "execution_count": null,
   "id": "0d14826a",
   "metadata": {},
   "outputs": [],
   "source": [
    "# define the dataframe columns\n",
    "df_column_names = ['Postal Code', 'Borough', 'Neighborhood']"
   ]
  },
  {
   "cell_type": "code",
   "execution_count": null,
   "id": "fa82551c",
   "metadata": {},
   "outputs": [],
   "source": [
    "toronto_df = pd.DataFrame(trb, columns=df_column_names)"
   ]
  },
  {
   "cell_type": "code",
   "execution_count": null,
   "id": "6c6938ca",
   "metadata": {},
   "outputs": [],
   "source": [
    "print(toronto_df.shape)"
   ]
  },
  {
   "cell_type": "code",
   "execution_count": null,
   "id": "2ec96ebb",
   "metadata": {},
   "outputs": [],
   "source": [
    "toronto_df.head(34)"
   ]
  },
  {
   "cell_type": "code",
   "execution_count": null,
   "id": "581fd3af",
   "metadata": {},
   "outputs": [],
   "source": [
    "toronto_df = toronto_df.sort_values(by=['Postal Code', 'Borough'], ascending=True).reset_index()"
   ]
  },
  {
   "cell_type": "code",
   "execution_count": null,
   "id": "4be3ce8c",
   "metadata": {},
   "outputs": [],
   "source": [
    "toronto_df.head(34)"
   ]
  }
 ],
 "metadata": {
  "kernelspec": {
   "display_name": "Python 3",
   "language": "python",
   "name": "python3"
  },
  "language_info": {
   "codemirror_mode": {
    "name": "ipython",
    "version": 3
   },
   "file_extension": ".py",
   "mimetype": "text/x-python",
   "name": "python",
   "nbconvert_exporter": "python",
   "pygments_lexer": "ipython3",
   "version": "3.8.8"
  }
 },
 "nbformat": 4,
 "nbformat_minor": 5
}
